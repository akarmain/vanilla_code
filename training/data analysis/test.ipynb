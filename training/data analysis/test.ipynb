{
 "cells": [
  {
   "cell_type": "code",
   "id": "initial_id",
   "metadata": {
    "collapsed": true,
    "ExecuteTime": {
     "end_time": "2025-04-11T14:11:15.747303Z",
     "start_time": "2025-04-11T14:11:15.725428Z"
    }
   },
   "source": [
    "import pandas as pd\n",
    "from random import randint\n",
    "s = pd.Series({\n",
    "    \"аниме\": \"круто\",\n",
    "    \"жить\": \"хорошо\",\n",
    "    \"завтра\": \"ЕГЭ\",\n",
    "})\n",
    "s['жить'] = 'нормально'\n",
    "s.iloc[2] = 'Экзамен'\n",
    "print(s)\n",
    "\n",
    "print(s.values)\n",
    "print(s.index)\n",
    "print(s.size)\n",
    "\n"
   ],
   "outputs": [
    {
     "name": "stdout",
     "output_type": "stream",
     "text": [
      "аниме         круто\n",
      "жить      нормально\n",
      "завтра      Экзамен\n",
      "dtype: object\n",
      "['круто' 'нормально' 'Экзамен']\n",
      "Index(['аниме', 'жить', 'завтра'], dtype='object')\n",
      "3\n"
     ]
    }
   ],
   "execution_count": 27
  },
  {
   "metadata": {
    "ExecuteTime": {
     "end_time": "2025-04-11T14:54:42.404994Z",
     "start_time": "2025-04-11T14:54:42.374203Z"
    }
   },
   "cell_type": "code",
   "source": [
    "s = pd.Series([randint(-100, 100) for _ in range(100+1)])\n",
    "s.tail(10)"
   ],
   "id": "50604d810d9fa80c",
   "outputs": [
    {
     "data": {
      "text/plain": [
       "91    -64\n",
       "92     35\n",
       "93     28\n",
       "94      5\n",
       "95     75\n",
       "96      2\n",
       "97     99\n",
       "98    -14\n",
       "99     44\n",
       "100    -5\n",
       "dtype: int64"
      ]
     },
     "execution_count": 36,
     "metadata": {},
     "output_type": "execute_result"
    }
   ],
   "execution_count": 36
  },
  {
   "metadata": {
    "ExecuteTime": {
     "end_time": "2025-04-11T14:12:48.894967Z",
     "start_time": "2025-04-11T14:12:48.887223Z"
    }
   },
   "cell_type": "code",
   "source": [
    "l, r = 20, 25\n",
    "s.take(range(l, r+1))"
   ],
   "id": "10292d8eb81aca6d",
   "outputs": [
    {
     "data": {
      "text/plain": [
       "20    68\n",
       "21    82\n",
       "22    50\n",
       "23    88\n",
       "24    92\n",
       "25    15\n",
       "dtype: int64"
      ]
     },
     "execution_count": 32,
     "metadata": {},
     "output_type": "execute_result"
    }
   ],
   "execution_count": 32
  },
  {
   "metadata": {
    "ExecuteTime": {
     "end_time": "2025-04-11T14:13:27.086782Z",
     "start_time": "2025-04-11T14:13:27.032868Z"
    }
   },
   "cell_type": "code",
   "source": "s.tail(10)\n",
   "id": "52033e820550011f",
   "outputs": [
    {
     "data": {
      "text/plain": [
       "90    58\n",
       "91    64\n",
       "92    91\n",
       "93    71\n",
       "94    92\n",
       "95    65\n",
       "96    61\n",
       "97     4\n",
       "98    60\n",
       "99    44\n",
       "dtype: int64"
      ]
     },
     "execution_count": 33,
     "metadata": {},
     "output_type": "execute_result"
    }
   ],
   "execution_count": 33
  },
  {
   "metadata": {
    "ExecuteTime": {
     "end_time": "2025-04-11T14:14:58.288362Z",
     "start_time": "2025-04-11T14:14:58.265426Z"
    }
   },
   "cell_type": "code",
   "source": "s[::-1]",
   "id": "1decb77e5a8368e0",
   "outputs": [
    {
     "data": {
      "text/plain": [
       "99    44\n",
       "98    60\n",
       "97     4\n",
       "96    61\n",
       "95    65\n",
       "      ..\n",
       "4     38\n",
       "3     41\n",
       "2     82\n",
       "1     90\n",
       "0     28\n",
       "Length: 100, dtype: int64"
      ]
     },
     "execution_count": 34,
     "metadata": {},
     "output_type": "execute_result"
    }
   ],
   "execution_count": 34
  },
  {
   "metadata": {
    "ExecuteTime": {
     "end_time": "2025-04-11T14:54:44.324650Z",
     "start_time": "2025-04-11T14:54:44.319241Z"
    }
   },
   "cell_type": "code",
   "source": "s.apply(lambda x: \"positive\" if x >= 0 else \"negative\")",
   "id": "5b6ba3a588851770",
   "outputs": [
    {
     "data": {
      "text/plain": [
       "0      positive\n",
       "1      negative\n",
       "2      positive\n",
       "3      positive\n",
       "4      negative\n",
       "         ...   \n",
       "96     positive\n",
       "97     positive\n",
       "98     negative\n",
       "99     positive\n",
       "100    negative\n",
       "Length: 101, dtype: object"
      ]
     },
     "execution_count": 37,
     "metadata": {},
     "output_type": "execute_result"
    }
   ],
   "execution_count": 37
  }
 ],
 "metadata": {
  "kernelspec": {
   "display_name": "Python 3",
   "language": "python",
   "name": "python3"
  },
  "language_info": {
   "codemirror_mode": {
    "name": "ipython",
    "version": 2
   },
   "file_extension": ".py",
   "mimetype": "text/x-python",
   "name": "python",
   "nbconvert_exporter": "python",
   "pygments_lexer": "ipython2",
   "version": "2.7.6"
  }
 },
 "nbformat": 4,
 "nbformat_minor": 5
}
